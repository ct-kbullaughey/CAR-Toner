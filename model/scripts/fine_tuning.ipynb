{
 "cells": [
  {
   "cell_type": "code",
   "execution_count": null,
   "id": "77b30a5a-066e-48f4-a271-ca9b965fd6ea",
   "metadata": {},
   "outputs": [],
   "source": [
    "import seaborn as sns\n",
    "import matplotlib.pyplot as plt\n",
    "import torch\n",
    "import esm\n",
    "import numpy as np\n",
    "import pandas as pd\n",
    "from tqdm import tqdm\n",
    "from sklearn.metrics import mean_squared_error, r2_score\n",
    "from sklearn.model_selection import train_test_split\n",
    "from transformers import AutoTokenizer\n",
    "from evaluate import load"
   ]
  },
  {
   "cell_type": "code",
   "execution_count": null,
   "id": "b05ef465-1f03-47b7-b5b6-b4056fbd649a",
   "metadata": {},
   "outputs": [],
   "source": [
    "pcp = pd.read_csv(\"../data/pcp_res_all.csv\")\n",
    "pcp['pcp'] = pcp['pcp'].astype(float)"
   ]
  },
  {
   "cell_type": "code",
   "execution_count": null,
   "id": "c10abfe7-7375-407c-b64e-5cfeb84a701b",
   "metadata": {},
   "outputs": [],
   "source": [
    "model_checkpoint = \"facebook/esm2_t6_8M_UR50D\"\n",
    "sequences = list(pcp.seq)\n",
    "labels = list(pcp.pcp)\n",
    "train_sequences, test_sequences, train_labels, test_labels = train_test_split(sequences, labels, \n",
    "                                                                              test_size=0.3, shuffle=True,\n",
    "                                                                              random_state=20230421)"
   ]
  },
  {
   "cell_type": "code",
   "execution_count": null,
   "id": "6dfec3a2-479a-4b18-92d4-cb7c67a7e1b7",
   "metadata": {},
   "outputs": [],
   "source": [
    "tokenizer = AutoTokenizer.from_pretrained(model_checkpoint,cache_dir=\"./data\")\n",
    "train_tokenized = tokenizer(train_sequences)\n",
    "test_tokenized = tokenizer(test_sequences)\n",
    "from datasets import Dataset\n",
    "train_dataset = Dataset.from_dict(train_tokenized)\n",
    "test_dataset = Dataset.from_dict(test_tokenized)\n",
    "\n",
    "train_dataset = train_dataset.add_column(\"labels\", train_labels)\n",
    "test_dataset = test_dataset.add_column(\"labels\", test_labels)"
   ]
  },
  {
   "cell_type": "code",
   "execution_count": null,
   "id": "2dc0edc3-ebbb-4166-81dd-2c72f54e1fa9",
   "metadata": {},
   "outputs": [],
   "source": [
    "from transformers import AutoModelForSequenceClassification, TrainingArguments, Trainer\n",
    "model = AutoModelForSequenceClassification.from_pretrained(model_checkpoint, num_labels=1, problem_type = \"regression\")\n",
    "\n",
    "batch_size = 64\n",
    "args = TrainingArguments(\n",
    "    output_dir = \"pcp_tunning5\",\n",
    "    evaluation_strategy = \"epoch\",\n",
    "    save_strategy = \"epoch\",\n",
    "    save_total_limit = 2,\n",
    "    learning_rate = 2e-4,\n",
    "    per_device_train_batch_size = batch_size,\n",
    "    per_device_eval_batch_size = batch_size,\n",
    "    greater_is_better = False,\n",
    "    num_train_epochs = 15,\n",
    "    weight_decay = 0.001,\n",
    "    load_best_model_at_end = True,\n",
    "    metric_for_best_model = \"loss\",\n",
    "    push_to_hub = False,\n",
    "    optim = \"adamw_torch\",\n",
    "    logging_steps=300,\n",
    "    dataloader_num_workers = 30\n",
    ")"
   ]
  },
  {
   "cell_type": "code",
   "execution_count": null,
   "id": "5fc124cf-4f5a-4c80-9ef6-eb8927b4876d",
   "metadata": {},
   "outputs": [],
   "source": [
    "def compute_metrics(eval_pred):\n",
    "    predictions, labels = eval_pred\n",
    "    predictions = (2.0**(predictions))\n",
    "    labels = (2.0**(labels))\n",
    "    r2 = r2_score(labels, predictions)\n",
    "    return {\"r2\": r2}"
   ]
  },
  {
   "cell_type": "code",
   "execution_count": null,
   "id": "02f50a78-af1a-4fd9-b206-d2e71d8df1a0",
   "metadata": {},
   "outputs": [],
   "source": [
    "trainer = Trainer(\n",
    "    model,\n",
    "    args,\n",
    "    train_dataset=train_dataset,\n",
    "    eval_dataset=test_dataset,\n",
    "    tokenizer=tokenizer,\n",
    "    compute_metrics=compute_metrics \n",
    ")\n",
    "trainer.train()"
   ]
  }
 ],
 "metadata": {
  "kernelspec": {
   "display_name": "dl",
   "language": "python",
   "name": "dl"
  },
  "language_info": {
   "codemirror_mode": {
    "name": "ipython",
    "version": 3
   },
   "file_extension": ".py",
   "mimetype": "text/x-python",
   "name": "python",
   "nbconvert_exporter": "python",
   "pygments_lexer": "ipython3",
   "version": "3.9.18"
  }
 },
 "nbformat": 4,
 "nbformat_minor": 5
}
